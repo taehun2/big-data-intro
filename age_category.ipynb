{
 "cells": [
  {
   "cell_type": "code",
   "execution_count": 1,
   "id": "700a6579-1e0b-4203-90cb-8c0f659e03f1",
   "metadata": {},
   "outputs": [],
   "source": [
    "# [+] SparkSession 설정\n",
    "from pyspark.sql import SparkSession\n",
    "spark = SparkSession.builder.master('local').appName('udf').getOrCreate()"
   ]
  },
  {
   "cell_type": "code",
   "execution_count": 7,
   "id": "6c98fef3-d691-4dd6-8314-085f7526ea47",
   "metadata": {},
   "outputs": [],
   "source": [
    "# 샘플 데이터\n",
    "age_category = [\n",
    "    ('안현', 39),\n",
    "    ('김태훈', 24),\n",
    "    ('강동원', 43),\n",
    "    ('박효신', 43),\n",
    "    ('태연', 35),\n",
    "    ('한소희', 30),\n",
    "    ('최민식', 63)\n",
    "]"
   ]
  },
  {
   "cell_type": "code",
   "execution_count": 9,
   "id": "43fe6f6b-a409-4c7d-975f-b0791e8d0f05",
   "metadata": {},
   "outputs": [],
   "source": [
    "# [+] 데이터프레임 생성\n",
    "df = spark.createDataFrame(age_category, schema)"
   ]
  },
  {
   "cell_type": "code",
   "execution_count": 8,
   "id": "c0b60539-b86f-48c8-9e7d-2505603c0778",
   "metadata": {},
   "outputs": [],
   "source": [
    "# [+] 스키마 정의\n",
    "schema = ['name', 'age']"
   ]
  },
  {
   "cell_type": "code",
   "execution_count": 10,
   "id": "ea18ab86-f1bd-421e-8d8d-3463396b4b82",
   "metadata": {},
   "outputs": [
    {
     "name": "stdout",
     "output_type": "stream",
     "text": [
      "+------+---+\n",
      "|  name|age|\n",
      "+------+---+\n",
      "|  안현| 39|\n",
      "|김태훈| 24|\n",
      "|강동원| 43|\n",
      "|박효신| 43|\n",
      "|  태연| 35|\n",
      "|한소희| 30|\n",
      "|최민식| 63|\n",
      "+------+---+\n",
      "\n"
     ]
    }
   ],
   "source": [
    "# [+] 데이터프레임 출력\n",
    "df.show()"
   ]
  },
  {
   "cell_type": "code",
   "execution_count": 12,
   "id": "0d095b94-e6e3-4c9c-8b2e-b9dd1be144fe",
   "metadata": {},
   "outputs": [
    {
     "name": "stdout",
     "output_type": "stream",
     "text": [
      "root\n",
      " |-- name: string (nullable = true)\n",
      " |-- age: long (nullable = true)\n",
      "\n"
     ]
    }
   ],
   "source": [
    "# [+] 데이터프레임 스키마 출력\n",
    "df.printSchema()"
   ]
  },
  {
   "cell_type": "code",
   "execution_count": 13,
   "id": "8420ccac-cd4f-4f82-9b77-09d8a62f0647",
   "metadata": {},
   "outputs": [],
   "source": [
    "# [+] Temporary View 생성\n",
    "df.createOrReplaceTempView('age')"
   ]
  },
  {
   "cell_type": "code",
   "execution_count": 18,
   "id": "320e6511-7692-423c-9bbc-32397c896582",
   "metadata": {},
   "outputs": [],
   "source": [
    "from pyspark.sql.functions import udf\n",
    "from pyspark.sql.types import StringType"
   ]
  },
  {
   "cell_type": "code",
   "execution_count": 19,
   "id": "2ade0515-01d2-4261-89d7-8bb1e384cb42",
   "metadata": {},
   "outputs": [],
   "source": [
    "def age_category(age):\n",
    "    if age < 35:\n",
    "        return 'young'\n",
    "    elif age < 60:\n",
    "        return 'adult'\n",
    "    else:\n",
    "        return 'senior'"
   ]
  },
  {
   "cell_type": "code",
   "execution_count": 20,
   "id": "74ba0734-619e-457c-917e-59b122def211",
   "metadata": {},
   "outputs": [],
   "source": [
    "age_category_udf = udf(age_category, StringType())"
   ]
  },
  {
   "cell_type": "code",
   "execution_count": 21,
   "id": "a5f336ee-92b3-473c-9e70-467f49085b57",
   "metadata": {},
   "outputs": [
    {
     "name": "stdout",
     "output_type": "stream",
     "text": [
      "+------+---+------------+\n",
      "|  name|age|age_category|\n",
      "+------+---+------------+\n",
      "|  안현| 39|       adult|\n",
      "|김태훈| 24|       young|\n",
      "|강동원| 43|       adult|\n",
      "|박효신| 43|       adult|\n",
      "|  태연| 35|       adult|\n",
      "|한소희| 30|       young|\n",
      "|최민식| 63|      senior|\n",
      "+------+---+------------+\n",
      "\n"
     ]
    }
   ],
   "source": [
    "df.withColumn('age_category', age_category_udf(df['age'])).show()"
   ]
  },
  {
   "cell_type": "code",
   "execution_count": 22,
   "id": "061effc8-e9f2-4e3d-b774-37238ae5aca5",
   "metadata": {},
   "outputs": [
    {
     "name": "stdout",
     "output_type": "stream",
     "text": [
      "+------+------------+\n",
      "|  name|age_category|\n",
      "+------+------------+\n",
      "|  안현|       adult|\n",
      "|김태훈|       young|\n",
      "|강동원|       adult|\n",
      "|박효신|       adult|\n",
      "|  태연|       adult|\n",
      "|한소희|       young|\n",
      "|최민식|      senior|\n",
      "+------+------------+\n",
      "\n"
     ]
    }
   ],
   "source": [
    "result = spark.sql(\n",
    "    \"SELECT name, CASE \\\n",
    "    WHEN age < 35 THEN 'young' \\\n",
    "    WHEN age >= 35 AND age < 60 THEN 'adult' \\\n",
    "    ELSE 'senior' \\\n",
    "    END AS age_category \\\n",
    "    FROM age\").show()\n"
   ]
  },
  {
   "cell_type": "code",
   "execution_count": null,
   "id": "f218f38c-8b97-40db-902f-2f01bbbc9f35",
   "metadata": {},
   "outputs": [],
   "source": []
  }
 ],
 "metadata": {
  "kernelspec": {
   "display_name": "Python 3 (ipykernel)",
   "language": "python",
   "name": "python3"
  },
  "language_info": {
   "codemirror_mode": {
    "name": "ipython",
    "version": 3
   },
   "file_extension": ".py",
   "mimetype": "text/x-python",
   "name": "python",
   "nbconvert_exporter": "python",
   "pygments_lexer": "ipython3",
   "version": "3.9.13"
  }
 },
 "nbformat": 4,
 "nbformat_minor": 5
}
